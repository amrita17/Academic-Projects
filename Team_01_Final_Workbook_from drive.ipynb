{
 "cells": [
  {
   "cell_type": "markdown",
   "metadata": {},
   "source": [
    " ##                            Recruit Restaurant Visitor Forecasting\n",
    " ##               Team 01 - Amrita Sharma, Anubha Varshney, Soundharya Murali"
   ]
  },
  {
   "cell_type": "markdown",
   "metadata": {},
   "source": [
    "### 1.Importing data"
   ]
  },
  {
   "cell_type": "code",
   "execution_count": 447,
   "metadata": {
    "collapsed": true
   },
   "outputs": [],
   "source": [
    "#Importing packages needed for analysis\n",
    "import numpy as np\n",
    "import pandas as pd\n",
    "from dateutil.parser import parse\n",
    "import matplotlib.pyplot as plt\n",
    "import seaborn as sns\n",
    "%matplotlib inline\n",
    "import datetime\n",
    "from sklearn import metrics\n",
    "from xgboost import XGBRegressor\n",
    "import math"
   ]
  },
  {
   "cell_type": "code",
   "execution_count": 448,
   "metadata": {
    "collapsed": true
   },
   "outputs": [],
   "source": [
    "# Importing data files\n",
    "air_reserve = pd.read_csv('./air_reserve.csv')\n",
    "air_store_info = pd.read_csv('./air_store_info.csv')\n",
    "air_visit_data = pd.read_csv('./air_visit_data.csv')\n",
    "date_info = pd.read_csv('./date_info.csv')\n",
    "hpg_reserve = pd.read_csv('./hpg_reserve.csv')\n",
    "hpg_store_info = pd.read_csv('./hpg_store_info.csv')\n",
    "sample_submission = pd.read_csv('./sample_submission.csv')\n",
    "store_id_relation = pd.read_csv('./store_id_relation.csv')"
   ]
  },
  {
   "cell_type": "code",
   "execution_count": 449,
   "metadata": {},
   "outputs": [
    {
     "data": {
      "text/html": [
       "<div>\n",
       "<style scoped>\n",
       "    .dataframe tbody tr th:only-of-type {\n",
       "        vertical-align: middle;\n",
       "    }\n",
       "\n",
       "    .dataframe tbody tr th {\n",
       "        vertical-align: top;\n",
       "    }\n",
       "\n",
       "    .dataframe thead th {\n",
       "        text-align: right;\n",
       "    }\n",
       "</style>\n",
       "<table border=\"1\" class=\"dataframe\">\n",
       "  <thead>\n",
       "    <tr style=\"text-align: right;\">\n",
       "      <th></th>\n",
       "      <th>air_store_id</th>\n",
       "      <th>air_genre_name</th>\n",
       "      <th>air_area_name</th>\n",
       "      <th>latitude</th>\n",
       "      <th>longitude</th>\n",
       "    </tr>\n",
       "  </thead>\n",
       "  <tbody>\n",
       "    <tr>\n",
       "      <th>0</th>\n",
       "      <td>air_0f0cdeee6c9bf3d7</td>\n",
       "      <td>Italian/French</td>\n",
       "      <td>Hyōgo-ken Kōbe-shi Kumoidōri</td>\n",
       "      <td>34.695124</td>\n",
       "      <td>135.197852</td>\n",
       "    </tr>\n",
       "    <tr>\n",
       "      <th>1</th>\n",
       "      <td>air_7cc17a324ae5c7dc</td>\n",
       "      <td>Italian/French</td>\n",
       "      <td>Hyōgo-ken Kōbe-shi Kumoidōri</td>\n",
       "      <td>34.695124</td>\n",
       "      <td>135.197852</td>\n",
       "    </tr>\n",
       "    <tr>\n",
       "      <th>2</th>\n",
       "      <td>air_fee8dcf4d619598e</td>\n",
       "      <td>Italian/French</td>\n",
       "      <td>Hyōgo-ken Kōbe-shi Kumoidōri</td>\n",
       "      <td>34.695124</td>\n",
       "      <td>135.197852</td>\n",
       "    </tr>\n",
       "    <tr>\n",
       "      <th>3</th>\n",
       "      <td>air_a17f0778617c76e2</td>\n",
       "      <td>Italian/French</td>\n",
       "      <td>Hyōgo-ken Kōbe-shi Kumoidōri</td>\n",
       "      <td>34.695124</td>\n",
       "      <td>135.197852</td>\n",
       "    </tr>\n",
       "    <tr>\n",
       "      <th>4</th>\n",
       "      <td>air_83db5aff8f50478e</td>\n",
       "      <td>Italian/French</td>\n",
       "      <td>Tōkyō-to Minato-ku Shibakōen</td>\n",
       "      <td>35.658068</td>\n",
       "      <td>139.751599</td>\n",
       "    </tr>\n",
       "  </tbody>\n",
       "</table>\n",
       "</div>"
      ],
      "text/plain": [
       "           air_store_id  air_genre_name                 air_area_name  \\\n",
       "0  air_0f0cdeee6c9bf3d7  Italian/French  Hyōgo-ken Kōbe-shi Kumoidōri   \n",
       "1  air_7cc17a324ae5c7dc  Italian/French  Hyōgo-ken Kōbe-shi Kumoidōri   \n",
       "2  air_fee8dcf4d619598e  Italian/French  Hyōgo-ken Kōbe-shi Kumoidōri   \n",
       "3  air_a17f0778617c76e2  Italian/French  Hyōgo-ken Kōbe-shi Kumoidōri   \n",
       "4  air_83db5aff8f50478e  Italian/French  Tōkyō-to Minato-ku Shibakōen   \n",
       "\n",
       "    latitude   longitude  \n",
       "0  34.695124  135.197852  \n",
       "1  34.695124  135.197852  \n",
       "2  34.695124  135.197852  \n",
       "3  34.695124  135.197852  \n",
       "4  35.658068  139.751599  "
      ]
     },
     "execution_count": 449,
     "metadata": {},
     "output_type": "execute_result"
    }
   ],
   "source": [
    "air_store_info.head(5)"
   ]
  },
  {
   "cell_type": "markdown",
   "metadata": {},
   "source": [
    "### 2. Data Preparation and Understanding"
   ]
  },
  {
   "cell_type": "code",
   "execution_count": 450,
   "metadata": {},
   "outputs": [
    {
     "name": "stdout",
     "output_type": "stream",
     "text": [
      "Holiday data available for : 517 days\n",
      "2017-05-31 2016-01-01\n",
      "Holidays in data: 35\n"
     ]
    }
   ],
   "source": [
    "#Checking the dates available in the data\n",
    "print (\"Holiday data available for : \" + str(len(date_info)) + \" days\")\n",
    "print (max(date_info['calendar_date']),min(date_info['calendar_date']))\n",
    "cnt=0\n",
    "bm = date_info['holiday_flg']==1\n",
    "print (\"Holidays in data:\",len(date_info[bm]))\n",
    "\n",
    "#12th march - 22nd april also as test set\n",
    "#23rd april 2017 - 31st may 2017 --> we should predict\n",
    "#2016-12-29----2017-01-03"
   ]
  },
  {
   "cell_type": "code",
   "execution_count": 451,
   "metadata": {},
   "outputs": [
    {
     "data": {
      "text/html": [
       "<div>\n",
       "<style scoped>\n",
       "    .dataframe tbody tr th:only-of-type {\n",
       "        vertical-align: middle;\n",
       "    }\n",
       "\n",
       "    .dataframe tbody tr th {\n",
       "        vertical-align: top;\n",
       "    }\n",
       "\n",
       "    .dataframe thead th {\n",
       "        text-align: right;\n",
       "    }\n",
       "</style>\n",
       "<table border=\"1\" class=\"dataframe\">\n",
       "  <thead>\n",
       "    <tr style=\"text-align: right;\">\n",
       "      <th></th>\n",
       "      <th>air_store_id</th>\n",
       "      <th>reserve_visitors</th>\n",
       "      <th>visit_date</th>\n",
       "    </tr>\n",
       "  </thead>\n",
       "  <tbody>\n",
       "    <tr>\n",
       "      <th>0</th>\n",
       "      <td>air_877f79706adbfb06</td>\n",
       "      <td>1</td>\n",
       "      <td>2016-01-01</td>\n",
       "    </tr>\n",
       "    <tr>\n",
       "      <th>1</th>\n",
       "      <td>air_db4b38ebe7a7ceff</td>\n",
       "      <td>3</td>\n",
       "      <td>2016-01-01</td>\n",
       "    </tr>\n",
       "    <tr>\n",
       "      <th>2</th>\n",
       "      <td>air_db4b38ebe7a7ceff</td>\n",
       "      <td>6</td>\n",
       "      <td>2016-01-01</td>\n",
       "    </tr>\n",
       "    <tr>\n",
       "      <th>3</th>\n",
       "      <td>air_877f79706adbfb06</td>\n",
       "      <td>2</td>\n",
       "      <td>2016-01-01</td>\n",
       "    </tr>\n",
       "    <tr>\n",
       "      <th>4</th>\n",
       "      <td>air_db80363d35f10926</td>\n",
       "      <td>5</td>\n",
       "      <td>2016-01-01</td>\n",
       "    </tr>\n",
       "  </tbody>\n",
       "</table>\n",
       "</div>"
      ],
      "text/plain": [
       "           air_store_id  reserve_visitors  visit_date\n",
       "0  air_877f79706adbfb06                 1  2016-01-01\n",
       "1  air_db4b38ebe7a7ceff                 3  2016-01-01\n",
       "2  air_db4b38ebe7a7ceff                 6  2016-01-01\n",
       "3  air_877f79706adbfb06                 2  2016-01-01\n",
       "4  air_db80363d35f10926                 5  2016-01-01"
      ]
     },
     "execution_count": 451,
     "metadata": {},
     "output_type": "execute_result"
    }
   ],
   "source": [
    "# Converting the date columns in air_reserve to datetimeindex to split time from date\n",
    "air_reserve.head()\n",
    "visit = pd.DatetimeIndex(air_reserve['visit_datetime'])\n",
    "reserve = pd.DatetimeIndex(air_reserve['reserve_datetime'])\n",
    "air_reserve['visit_date'] = visit.date\n",
    "air_reserve['reserve_date'] = reserve.date\n",
    "air_reserve = air_reserve.drop(['visit_datetime','reserve_datetime','reserve_date'], axis= 1)\n",
    "air_reserve.head()"
   ]
  },
  {
   "cell_type": "code",
   "execution_count": 452,
   "metadata": {},
   "outputs": [
    {
     "name": "stdout",
     "output_type": "stream",
     "text": [
      "2017-05-31 2016-01-01\n"
     ]
    }
   ],
   "source": [
    "#Checking the max and min dates available in the data\n",
    "print (max(air_reserve['visit_date']),min(air_reserve['visit_date']))"
   ]
  },
  {
   "cell_type": "code",
   "execution_count": 453,
   "metadata": {},
   "outputs": [
    {
     "data": {
      "text/html": [
       "<div>\n",
       "<style scoped>\n",
       "    .dataframe tbody tr th:only-of-type {\n",
       "        vertical-align: middle;\n",
       "    }\n",
       "\n",
       "    .dataframe tbody tr th {\n",
       "        vertical-align: top;\n",
       "    }\n",
       "\n",
       "    .dataframe thead th {\n",
       "        text-align: right;\n",
       "    }\n",
       "</style>\n",
       "<table border=\"1\" class=\"dataframe\">\n",
       "  <thead>\n",
       "    <tr style=\"text-align: right;\">\n",
       "      <th></th>\n",
       "      <th>hpg_store_id</th>\n",
       "      <th>reserve_visitors</th>\n",
       "      <th>visit_date</th>\n",
       "    </tr>\n",
       "  </thead>\n",
       "  <tbody>\n",
       "    <tr>\n",
       "      <th>0</th>\n",
       "      <td>hpg_c63f6f42e088e50f</td>\n",
       "      <td>1</td>\n",
       "      <td>2016-01-01</td>\n",
       "    </tr>\n",
       "    <tr>\n",
       "      <th>1</th>\n",
       "      <td>hpg_dac72789163a3f47</td>\n",
       "      <td>3</td>\n",
       "      <td>2016-01-01</td>\n",
       "    </tr>\n",
       "    <tr>\n",
       "      <th>2</th>\n",
       "      <td>hpg_c8e24dcf51ca1eb5</td>\n",
       "      <td>2</td>\n",
       "      <td>2016-01-01</td>\n",
       "    </tr>\n",
       "    <tr>\n",
       "      <th>3</th>\n",
       "      <td>hpg_24bb207e5fd49d4a</td>\n",
       "      <td>5</td>\n",
       "      <td>2016-01-01</td>\n",
       "    </tr>\n",
       "    <tr>\n",
       "      <th>4</th>\n",
       "      <td>hpg_25291c542ebb3bc2</td>\n",
       "      <td>13</td>\n",
       "      <td>2016-01-01</td>\n",
       "    </tr>\n",
       "  </tbody>\n",
       "</table>\n",
       "</div>"
      ],
      "text/plain": [
       "           hpg_store_id  reserve_visitors  visit_date\n",
       "0  hpg_c63f6f42e088e50f                 1  2016-01-01\n",
       "1  hpg_dac72789163a3f47                 3  2016-01-01\n",
       "2  hpg_c8e24dcf51ca1eb5                 2  2016-01-01\n",
       "3  hpg_24bb207e5fd49d4a                 5  2016-01-01\n",
       "4  hpg_25291c542ebb3bc2                13  2016-01-01"
      ]
     },
     "execution_count": 453,
     "metadata": {},
     "output_type": "execute_result"
    }
   ],
   "source": [
    "# Converting the date columns in hpg_reserve to datetimeindex to split time from date\n",
    "hpg_reserve.head()\n",
    "visit = pd.DatetimeIndex(hpg_reserve['visit_datetime'])\n",
    "hpg_reserve['visit_date'] = visit.date\n",
    "del hpg_reserve['visit_datetime']\n",
    "del hpg_reserve['reserve_datetime']\n",
    "hpg_reserve.head()"
   ]
  },
  {
   "cell_type": "code",
   "execution_count": 454,
   "metadata": {
    "collapsed": true,
    "scrolled": true
   },
   "outputs": [],
   "source": [
    "#Summing up the reserved visitors after removing time from date\n",
    "air = pd.DataFrame(air_reserve.groupby(['air_store_id','visit_date'],as_index=False)['reserve_visitors'].sum())\n",
    "hpg = pd.DataFrame(hpg_reserve.groupby(['hpg_store_id','visit_date'],as_index=False)['reserve_visitors'].sum())"
   ]
  },
  {
   "cell_type": "code",
   "execution_count": 455,
   "metadata": {},
   "outputs": [
    {
     "name": "stdout",
     "output_type": "stream",
     "text": [
      "92378\n",
      "314\n",
      "2000320\n",
      "13325\n"
     ]
    }
   ],
   "source": [
    "#Checking count of rows in dataframes\n",
    "df1 = pd.DataFrame(air_reserve['air_store_id'].str[4:])\n",
    "print (len(df1)) #92378\n",
    "print (len(df1.air_store_id.unique())) #314\n",
    "\n",
    "df2 = pd.DataFrame(hpg_reserve['hpg_store_id'].str[4:])\n",
    "print (len(df2)) #92378\n",
    "print (len(df2.hpg_store_id.unique())) #314"
   ]
  },
  {
   "cell_type": "code",
   "execution_count": 456,
   "metadata": {},
   "outputs": [
    {
     "name": "stdout",
     "output_type": "stream",
     "text": [
      "29830\n",
      "12646\n",
      "6257\n"
     ]
    },
    {
     "data": {
      "text/html": [
       "<div>\n",
       "<style scoped>\n",
       "    .dataframe tbody tr th:only-of-type {\n",
       "        vertical-align: middle;\n",
       "    }\n",
       "\n",
       "    .dataframe tbody tr th {\n",
       "        vertical-align: top;\n",
       "    }\n",
       "\n",
       "    .dataframe thead th {\n",
       "        text-align: right;\n",
       "    }\n",
       "</style>\n",
       "<table border=\"1\" class=\"dataframe\">\n",
       "  <thead>\n",
       "    <tr style=\"text-align: right;\">\n",
       "      <th></th>\n",
       "      <th>air_store_id</th>\n",
       "      <th>visit_date</th>\n",
       "      <th>air_visitors</th>\n",
       "      <th>hpg_store_id</th>\n",
       "      <th>hpg_visitors</th>\n",
       "    </tr>\n",
       "  </thead>\n",
       "  <tbody>\n",
       "    <tr>\n",
       "      <th>0</th>\n",
       "      <td>air_00a91d42b08b08d9</td>\n",
       "      <td>2016-10-31</td>\n",
       "      <td>2</td>\n",
       "      <td>hpg_fbe603376b5980fc</td>\n",
       "      <td>2</td>\n",
       "    </tr>\n",
       "    <tr>\n",
       "      <th>1</th>\n",
       "      <td>air_00a91d42b08b08d9</td>\n",
       "      <td>2016-12-05</td>\n",
       "      <td>9</td>\n",
       "      <td>hpg_fbe603376b5980fc</td>\n",
       "      <td>1</td>\n",
       "    </tr>\n",
       "    <tr>\n",
       "      <th>2</th>\n",
       "      <td>air_00a91d42b08b08d9</td>\n",
       "      <td>2016-12-17</td>\n",
       "      <td>2</td>\n",
       "      <td>hpg_fbe603376b5980fc</td>\n",
       "      <td>2</td>\n",
       "    </tr>\n",
       "    <tr>\n",
       "      <th>3</th>\n",
       "      <td>air_00a91d42b08b08d9</td>\n",
       "      <td>2016-12-20</td>\n",
       "      <td>4</td>\n",
       "      <td>hpg_fbe603376b5980fc</td>\n",
       "      <td>4</td>\n",
       "    </tr>\n",
       "    <tr>\n",
       "      <th>4</th>\n",
       "      <td>air_00a91d42b08b08d9</td>\n",
       "      <td>2017-02-18</td>\n",
       "      <td>9</td>\n",
       "      <td>hpg_fbe603376b5980fc</td>\n",
       "      <td>9</td>\n",
       "    </tr>\n",
       "  </tbody>\n",
       "</table>\n",
       "</div>"
      ],
      "text/plain": [
       "           air_store_id  visit_date  air_visitors          hpg_store_id  \\\n",
       "0  air_00a91d42b08b08d9  2016-10-31             2  hpg_fbe603376b5980fc   \n",
       "1  air_00a91d42b08b08d9  2016-12-05             9  hpg_fbe603376b5980fc   \n",
       "2  air_00a91d42b08b08d9  2016-12-17             2  hpg_fbe603376b5980fc   \n",
       "3  air_00a91d42b08b08d9  2016-12-20             4  hpg_fbe603376b5980fc   \n",
       "4  air_00a91d42b08b08d9  2017-02-18             9  hpg_fbe603376b5980fc   \n",
       "\n",
       "   hpg_visitors  \n",
       "0             2  \n",
       "1             1  \n",
       "2             2  \n",
       "3             4  \n",
       "4             9  "
      ]
     },
     "execution_count": 456,
     "metadata": {},
     "output_type": "execute_result"
    }
   ],
   "source": [
    "#Renaming columns so as to merge air and hog data\n",
    "air = air.rename(index=str, columns={\"reserve_visitors\": \"air_visitors\"})\n",
    "hpg = hpg.rename(index=str, columns={\"reserve_visitors\": \"hpg_visitors\"})\n",
    "air_df = pd.merge(air,store_id_relation)\n",
    "print (len(air)) #29830\n",
    "print (len(air_df)) #12646 store-date combinations had hpg mapping\n",
    "air_hpg = pd.merge(air_df,hpg)\n",
    "print (len(air_hpg)) #6257 combinations had corresponding visitor data\n",
    "air_hpg.head()"
   ]
  },
  {
   "cell_type": "markdown",
   "metadata": {},
   "source": [
    "#### Adding air and hpg reservations to get total reserved visitors per store per day"
   ]
  },
  {
   "cell_type": "code",
   "execution_count": 457,
   "metadata": {},
   "outputs": [
    {
     "data": {
      "text/html": [
       "<div>\n",
       "<style scoped>\n",
       "    .dataframe tbody tr th:only-of-type {\n",
       "        vertical-align: middle;\n",
       "    }\n",
       "\n",
       "    .dataframe tbody tr th {\n",
       "        vertical-align: top;\n",
       "    }\n",
       "\n",
       "    .dataframe thead th {\n",
       "        text-align: right;\n",
       "    }\n",
       "</style>\n",
       "<table border=\"1\" class=\"dataframe\">\n",
       "  <thead>\n",
       "    <tr style=\"text-align: right;\">\n",
       "      <th></th>\n",
       "      <th>air_store_id</th>\n",
       "      <th>visit_date</th>\n",
       "      <th>reserved_visitors</th>\n",
       "    </tr>\n",
       "  </thead>\n",
       "  <tbody>\n",
       "    <tr>\n",
       "      <th>0</th>\n",
       "      <td>air_00a91d42b08b08d9</td>\n",
       "      <td>2016-10-31</td>\n",
       "      <td>4</td>\n",
       "    </tr>\n",
       "    <tr>\n",
       "      <th>1</th>\n",
       "      <td>air_00a91d42b08b08d9</td>\n",
       "      <td>2016-12-05</td>\n",
       "      <td>10</td>\n",
       "    </tr>\n",
       "    <tr>\n",
       "      <th>2</th>\n",
       "      <td>air_00a91d42b08b08d9</td>\n",
       "      <td>2016-12-17</td>\n",
       "      <td>4</td>\n",
       "    </tr>\n",
       "    <tr>\n",
       "      <th>3</th>\n",
       "      <td>air_00a91d42b08b08d9</td>\n",
       "      <td>2016-12-20</td>\n",
       "      <td>8</td>\n",
       "    </tr>\n",
       "    <tr>\n",
       "      <th>4</th>\n",
       "      <td>air_00a91d42b08b08d9</td>\n",
       "      <td>2017-02-18</td>\n",
       "      <td>18</td>\n",
       "    </tr>\n",
       "  </tbody>\n",
       "</table>\n",
       "</div>"
      ],
      "text/plain": [
       "           air_store_id  visit_date  reserved_visitors\n",
       "0  air_00a91d42b08b08d9  2016-10-31                  4\n",
       "1  air_00a91d42b08b08d9  2016-12-05                 10\n",
       "2  air_00a91d42b08b08d9  2016-12-17                  4\n",
       "3  air_00a91d42b08b08d9  2016-12-20                  8\n",
       "4  air_00a91d42b08b08d9  2017-02-18                 18"
      ]
     },
     "execution_count": 457,
     "metadata": {},
     "output_type": "execute_result"
    }
   ],
   "source": [
    "#Summing up total reservations\n",
    "air_hpg['reserved_visitors'] = air_hpg['air_visitors'] + air_hpg['hpg_visitors']\n",
    "air_hpg = air_hpg[['air_store_id','visit_date','reserved_visitors']]\n",
    "air_hpg.head()"
   ]
  },
  {
   "cell_type": "markdown",
   "metadata": {},
   "source": [
    "#### Merge just air reservations with air& hpg reservations and create one table for reservations"
   ]
  },
  {
   "cell_type": "code",
   "execution_count": 458,
   "metadata": {},
   "outputs": [
    {
     "name": "stdout",
     "output_type": "stream",
     "text": [
      "29830\n"
     ]
    },
    {
     "data": {
      "text/html": [
       "<div>\n",
       "<style scoped>\n",
       "    .dataframe tbody tr th:only-of-type {\n",
       "        vertical-align: middle;\n",
       "    }\n",
       "\n",
       "    .dataframe tbody tr th {\n",
       "        vertical-align: top;\n",
       "    }\n",
       "\n",
       "    .dataframe thead th {\n",
       "        text-align: right;\n",
       "    }\n",
       "</style>\n",
       "<table border=\"1\" class=\"dataframe\">\n",
       "  <thead>\n",
       "    <tr style=\"text-align: right;\">\n",
       "      <th></th>\n",
       "      <th>air_store_id</th>\n",
       "      <th>visit_date</th>\n",
       "      <th>reserved_visitors</th>\n",
       "    </tr>\n",
       "  </thead>\n",
       "  <tbody>\n",
       "    <tr>\n",
       "      <th>0</th>\n",
       "      <td>air_00a91d42b08b08d9</td>\n",
       "      <td>2016-10-31</td>\n",
       "      <td>4</td>\n",
       "    </tr>\n",
       "    <tr>\n",
       "      <th>1</th>\n",
       "      <td>air_00a91d42b08b08d9</td>\n",
       "      <td>2016-12-05</td>\n",
       "      <td>10</td>\n",
       "    </tr>\n",
       "    <tr>\n",
       "      <th>2</th>\n",
       "      <td>air_00a91d42b08b08d9</td>\n",
       "      <td>2016-12-17</td>\n",
       "      <td>4</td>\n",
       "    </tr>\n",
       "    <tr>\n",
       "      <th>3</th>\n",
       "      <td>air_00a91d42b08b08d9</td>\n",
       "      <td>2016-12-20</td>\n",
       "      <td>8</td>\n",
       "    </tr>\n",
       "    <tr>\n",
       "      <th>4</th>\n",
       "      <td>air_00a91d42b08b08d9</td>\n",
       "      <td>2017-02-18</td>\n",
       "      <td>18</td>\n",
       "    </tr>\n",
       "  </tbody>\n",
       "</table>\n",
       "</div>"
      ],
      "text/plain": [
       "           air_store_id  visit_date  reserved_visitors\n",
       "0  air_00a91d42b08b08d9  2016-10-31                  4\n",
       "1  air_00a91d42b08b08d9  2016-12-05                 10\n",
       "2  air_00a91d42b08b08d9  2016-12-17                  4\n",
       "3  air_00a91d42b08b08d9  2016-12-20                  8\n",
       "4  air_00a91d42b08b08d9  2017-02-18                 18"
      ]
     },
     "execution_count": 458,
     "metadata": {},
     "output_type": "execute_result"
    }
   ],
   "source": [
    "just_air = pd.merge(df3,air)\n",
    "just_air = just_air.rename(index=str, columns={\"air_visitors\": \"reserved_visitors\"})\n",
    "#print (just_air.head())\n",
    "all_air_hpg = pd.concat([air_hpg,just_air])\n",
    "print (len(all_air_hpg))\n",
    "all_air_hpg.head()"
   ]
  },
  {
   "cell_type": "markdown",
   "metadata": {},
   "source": [
    "#### Final dataframe with all columns"
   ]
  },
  {
   "cell_type": "code",
   "execution_count": 459,
   "metadata": {},
   "outputs": [
    {
     "name": "stdout",
     "output_type": "stream",
     "text": [
      "252108\n",
      "28064\n",
      "252108\n"
     ]
    }
   ],
   "source": [
    "visit = pd.DatetimeIndex(air_visit_data['visit_date'])\n",
    "air_visit_data['visit_date'] = visit.date\n",
    "print (len(air_visit_data))\n",
    "visit_reserve = pd.merge(air_visit_data,all_air_hpg,how='left').fillna(0)\n",
    "print (len(visit_reserve[visit_reserve['reserved_visitors']>0]))\n",
    "print (len(visit_reserve))"
   ]
  },
  {
   "cell_type": "markdown",
   "metadata": {},
   "source": [
    "*Hence, for all the restaurants where there is a record of the reservations, we also have the effective number of visitors. However, there is ~ 500 restaurants for which we don't have any informations on reservations.*"
   ]
  },
  {
   "cell_type": "markdown",
   "metadata": {},
   "source": [
    "#### Outlier treatment for visitors and reserved visitors"
   ]
  },
  {
   "cell_type": "code",
   "execution_count": 460,
   "metadata": {
    "collapsed": true
   },
   "outputs": [],
   "source": [
    "visit_reserve.loc[visit_reserve['reserved_visitors'] > 300] = visit_reserve['reserved_visitors'].quantile(.998)\n",
    "visit_reserve.loc[visit_reserve['visitors'] > 500] = visit_reserve['reserved_visitors'].quantile(.998)"
   ]
  },
  {
   "cell_type": "markdown",
   "metadata": {},
   "source": [
    "#### Add date_info to the visit_reserve table"
   ]
  },
  {
   "cell_type": "code",
   "execution_count": 461,
   "metadata": {},
   "outputs": [
    {
     "name": "stdout",
     "output_type": "stream",
     "text": [
      "252098\n"
     ]
    }
   ],
   "source": [
    "date_info = date_info.rename(index=str, columns={\"calendar_date\": \"visit_date\"})\n",
    "visit = pd.DatetimeIndex(date_info['visit_date'])\n",
    "date_info['visit_date'] = visit.date\n",
    "#print (date_info.head())\n",
    "\n",
    "#print (visit_reserve.head())\n",
    "visit_reserve = pd.merge(visit_reserve,date_info)\n",
    "print (len(visit_reserve))\n",
    "\n",
    "# Splitting date into day,month and year\n",
    "visit_reserve['year'] = pd.DatetimeIndex(visit_reserve['visit_date']).year\n",
    "visit_reserve['month'] = pd.DatetimeIndex(visit_reserve['visit_date']).month\n",
    "visit_reserve['day'] = pd.DatetimeIndex(visit_reserve['visit_date']).day"
   ]
  },
  {
   "cell_type": "markdown",
   "metadata": {},
   "source": [
    "#### Merging with air_store_info to get store features"
   ]
  },
  {
   "cell_type": "code",
   "execution_count": 462,
   "metadata": {},
   "outputs": [
    {
     "name": "stdout",
     "output_type": "stream",
     "text": [
      "252098\n"
     ]
    }
   ],
   "source": [
    "print (len(visit_reserve))\n",
    "visit_reserve = pd.merge(visit_reserve,air_store_info)"
   ]
  },
  {
   "cell_type": "markdown",
   "metadata": {},
   "source": [
    "#### One hot encoding of categorical variables"
   ]
  },
  {
   "cell_type": "code",
   "execution_count": 463,
   "metadata": {},
   "outputs": [],
   "source": [
    "genre = pd.get_dummies(visit_reserve['air_genre_name'])\n",
    "visit_reserve = visit_reserve.join(genre)\n",
    "\n",
    "day = pd.get_dummies(visit_reserve['day_of_week'])\n",
    "visit_reserve = visit_reserve.join(day)"
   ]
  },
  {
   "cell_type": "code",
   "execution_count": 384,
   "metadata": {},
   "outputs": [
    {
     "name": "stdout",
     "output_type": "stream",
     "text": [
      "           air_store_id  visit_date  visitors  reserved_visitors day_of_week  \\\n",
      "0  air_ba937bf13d40fb24  2016-01-13      25.0                0.0   Wednesday   \n",
      "1  air_ba937bf13d40fb24  2016-01-14      32.0                0.0    Thursday   \n",
      "2  air_ba937bf13d40fb24  2016-01-15      29.0                0.0      Friday   \n",
      "3  air_ba937bf13d40fb24  2016-01-16      22.0                0.0    Saturday   \n",
      "4  air_ba937bf13d40fb24  2016-01-18       6.0                0.0      Monday   \n",
      "\n",
      "   holiday_flg  year  month  day air_genre_name    ...    Western food  \\\n",
      "0            0  2016      1   13     Dining bar    ...               0   \n",
      "1            0  2016      1   14     Dining bar    ...               0   \n",
      "2            0  2016      1   15     Dining bar    ...               0   \n",
      "3            0  2016      1   16     Dining bar    ...               0   \n",
      "4            0  2016      1   18     Dining bar    ...               0   \n",
      "\n",
      "   Yakiniku/Korean food  Friday  Monday  Saturday  Sunday  Thursday  Tuesday  \\\n",
      "0                     0       0       0         0       0         0        0   \n",
      "1                     0       0       0         0       0         1        0   \n",
      "2                     0       1       0         0       0         0        0   \n",
      "3                     0       0       0         1       0         0        0   \n",
      "4                     0       0       1         0       0         0        0   \n",
      "\n",
      "   Wednesday  store_id  \n",
      "0          1       603  \n",
      "1          0       603  \n",
      "2          0       603  \n",
      "3          0       603  \n",
      "4          0       603  \n",
      "\n",
      "[5 rows x 35 columns]\n",
      "252098\n"
     ]
    }
   ],
   "source": [
    "# Store ids are mapped to numbers from alpha numeric characters\n",
    "from sklearn.preprocessing import LabelEncoder\n",
    "label_encoder = LabelEncoder()\n",
    "store = pd.DataFrame(label_encoder.fit_transform(visit_reserve['air_store_id']))\n",
    "visit_reserve['store_id'] = store\n",
    "\n",
    "print (visit_reserve.head())\n",
    "print (len(visit_reserve))"
   ]
  },
  {
   "cell_type": "markdown",
   "metadata": {},
   "source": [
    "#### Splitting into train and test datasets"
   ]
  },
  {
   "cell_type": "code",
   "execution_count": 386,
   "metadata": {},
   "outputs": [
    {
     "name": "stdout",
     "output_type": "stream",
     "text": [
      "2017-03-09 2016-01-01\n",
      "2017-04-22 2017-03-11\n",
      "35\n"
     ]
    }
   ],
   "source": [
    "#Data available from Jan1-2016 to Apr22-2017. So taking data from March 10-2017 as test\n",
    "train_dataset = visit_reserve.loc[visit_reserve['visit_date'] < datetime.date(2017,3,10)]\n",
    "print (max(train_dataset['visit_date']),min(train_dataset['visit_date']))\n",
    "\n",
    "test_dataset = visit_reserve.loc[visit_reserve['visit_date'] > datetime.date(2017,3,10)]\n",
    "print (max(test_dataset['visit_date']),min(test_dataset['visit_date']))\n",
    "\n",
    "print (len(train_dataset.columns))\n",
    "#train_dataset.head()"
   ]
  },
  {
   "cell_type": "markdown",
   "metadata": {},
   "source": [
    "### Visualizing the data"
   ]
  },
  {
   "cell_type": "markdown",
   "metadata": {},
   "source": [
    "#### Location of restaurants in Japan (code taken from online)"
   ]
  },
  {
   "cell_type": "code",
   "execution_count": 387,
   "metadata": {},
   "outputs": [
    {
     "data": {
      "image/png": "[encoded data removed]",
      "text/plain": [
       "<matplotlib.figure.Figure at 0x1662cb68d30>"
      ]
     },
     "metadata": {},
     "output_type": "display_data"
    }
   ],
   "source": [
    "## Checking if the restaurants lie in Japan \n",
    "from mpl_toolkits.basemap import Basemap\n",
    "\n",
    "latitude = train_dataset['latitude'].values\n",
    "longitude = train_dataset['longitude'].values\n",
    "\n",
    "fig = plt.figure(figsize=(6, 6))\n",
    "map_plot = Basemap(projection='lcc', resolution='h',lat_0=36.2048, lon_0=138.2529,width=1000000, height=1200000)\n",
    "\n",
    "map_plot.drawcoastlines(color='black')\n",
    "map_plot.drawcountries(color='black')\n",
    "map_plot.scatter(longitude, latitude, latlon=True, alpha=0.5,color=\"red\")\n",
    "plt.title(\"Location of restaurants in Japan\")\n",
    "plt.show()"
   ]
  },
  {
   "cell_type": "markdown",
   "metadata": {},
   "source": [
    "*It can be clearly seen that there are no restaurants which are considered outside Japan*"
   ]
  },
  {
   "cell_type": "markdown",
   "metadata": {},
   "source": [
    "#### Adding a column for popularity of a restaurant"
   ]
  },
  {
   "cell_type": "code",
   "execution_count": 388,
   "metadata": {},
   "outputs": [
    {
     "data": {
      "text/html": [
       "<div>\n",
       "<style scoped>\n",
       "    .dataframe tbody tr th:only-of-type {\n",
       "        vertical-align: middle;\n",
       "    }\n",
       "\n",
       "    .dataframe tbody tr th {\n",
       "        vertical-align: top;\n",
       "    }\n",
       "\n",
       "    .dataframe thead th {\n",
       "        text-align: right;\n",
       "    }\n",
       "</style>\n",
       "<table border=\"1\" class=\"dataframe\">\n",
       "  <thead>\n",
       "    <tr style=\"text-align: right;\">\n",
       "      <th></th>\n",
       "      <th>air_store_id</th>\n",
       "      <th>total_visitors</th>\n",
       "    </tr>\n",
       "  </thead>\n",
       "  <tbody>\n",
       "    <tr>\n",
       "      <th>0</th>\n",
       "      <td>air_00a91d42b08b08d9</td>\n",
       "      <td>5009.0</td>\n",
       "    </tr>\n",
       "    <tr>\n",
       "      <th>1</th>\n",
       "      <td>air_0164b9927d20bcc3</td>\n",
       "      <td>1052.0</td>\n",
       "    </tr>\n",
       "    <tr>\n",
       "      <th>2</th>\n",
       "      <td>air_0241aa3964b7f861</td>\n",
       "      <td>3593.0</td>\n",
       "    </tr>\n",
       "    <tr>\n",
       "      <th>3</th>\n",
       "      <td>air_0328696196e46f18</td>\n",
       "      <td>690.0</td>\n",
       "    </tr>\n",
       "    <tr>\n",
       "      <th>4</th>\n",
       "      <td>air_034a3d5b40d5b1b1</td>\n",
       "      <td>2699.0</td>\n",
       "    </tr>\n",
       "  </tbody>\n",
       "</table>\n",
       "</div>"
      ],
      "text/plain": [
       "           air_store_id  total_visitors\n",
       "0  air_00a91d42b08b08d9          5009.0\n",
       "1  air_0164b9927d20bcc3          1052.0\n",
       "2  air_0241aa3964b7f861          3593.0\n",
       "3  air_0328696196e46f18           690.0\n",
       "4  air_034a3d5b40d5b1b1          2699.0"
      ]
     },
     "execution_count": 388,
     "metadata": {},
     "output_type": "execute_result"
    }
   ],
   "source": [
    "store_popularity = train_dataset.groupby('air_store_id')['visitors'].sum()\n",
    "store_popularity = store_popularity.reset_index().rename(columns={'visitors': 'total_visitors'})\n",
    "store_popularity.head()"
   ]
  },
  {
   "cell_type": "code",
   "execution_count": 389,
   "metadata": {},
   "outputs": [
    {
     "name": "stdout",
     "output_type": "stream",
     "text": [
      "2456.0\n",
      "3980.800000000001\n",
      "5616.999999999998\n",
      "8191.000000000001\n"
     ]
    }
   ],
   "source": [
    "print (store_popularity['total_visitors'].quantile(.2))\n",
    "print (store_popularity['total_visitors'].quantile(.4))\n",
    "print (store_popularity['total_visitors'].quantile(.6))\n",
    "print (store_popularity['total_visitors'].quantile(.8))\n",
    "#print (store_popularity['total_visitors'].quantile(.2))"
   ]
  },
  {
   "cell_type": "code",
   "execution_count": 391,
   "metadata": {},
   "outputs": [],
   "source": [
    "store_popularity['popularity'] = pd.cut(store_popularity['total_visitors'], [0, 4000, 8000, 12000,16000,20000], \n",
    "                                        labels=['Very low', 'Low', 'Medium','High' ,'Very high'])\n",
    "#store_popularity['popularity'].value_counts()"
   ]
  },
  {
   "cell_type": "markdown",
   "metadata": {},
   "source": [
    "#### Joining popularity with train_dataset"
   ]
  },
  {
   "cell_type": "code",
   "execution_count": 392,
   "metadata": {},
   "outputs": [
    {
     "data": {
      "text/html": [
       "<div>\n",
       "<style scoped>\n",
       "    .dataframe tbody tr th:only-of-type {\n",
       "        vertical-align: middle;\n",
       "    }\n",
       "\n",
       "    .dataframe tbody tr th {\n",
       "        vertical-align: top;\n",
       "    }\n",
       "\n",
       "    .dataframe thead th {\n",
       "        text-align: right;\n",
       "    }\n",
       "</style>\n",
       "<table border=\"1\" class=\"dataframe\">\n",
       "  <thead>\n",
       "    <tr style=\"text-align: right;\">\n",
       "      <th></th>\n",
       "      <th>air_store_id</th>\n",
       "      <th>visit_date</th>\n",
       "      <th>visitors</th>\n",
       "      <th>reserved_visitors</th>\n",
       "      <th>day_of_week</th>\n",
       "      <th>holiday_flg</th>\n",
       "      <th>year</th>\n",
       "      <th>month</th>\n",
       "      <th>day</th>\n",
       "      <th>air_genre_name</th>\n",
       "      <th>...</th>\n",
       "      <th>Friday</th>\n",
       "      <th>Monday</th>\n",
       "      <th>Saturday</th>\n",
       "      <th>Sunday</th>\n",
       "      <th>Thursday</th>\n",
       "      <th>Tuesday</th>\n",
       "      <th>Wednesday</th>\n",
       "      <th>store_id</th>\n",
       "      <th>total_visitors</th>\n",
       "      <th>popularity</th>\n",
       "    </tr>\n",
       "  </thead>\n",
       "  <tbody>\n",
       "    <tr>\n",
       "      <th>0</th>\n",
       "      <td>air_ba937bf13d40fb24</td>\n",
       "      <td>2016-01-13</td>\n",
       "      <td>25.0</td>\n",
       "      <td>0.0</td>\n",
       "      <td>Wednesday</td>\n",
       "      <td>0</td>\n",
       "      <td>2016</td>\n",
       "      <td>1</td>\n",
       "      <td>13</td>\n",
       "      <td>Dining bar</td>\n",
       "      <td>...</td>\n",
       "      <td>0</td>\n",
       "      <td>0</td>\n",
       "      <td>0</td>\n",
       "      <td>0</td>\n",
       "      <td>0</td>\n",
       "      <td>0</td>\n",
       "      <td>1</td>\n",
       "      <td>603</td>\n",
       "      <td>8183.0</td>\n",
       "      <td>Medium</td>\n",
       "    </tr>\n",
       "    <tr>\n",
       "      <th>1</th>\n",
       "      <td>air_ba937bf13d40fb24</td>\n",
       "      <td>2016-01-14</td>\n",
       "      <td>32.0</td>\n",
       "      <td>0.0</td>\n",
       "      <td>Thursday</td>\n",
       "      <td>0</td>\n",
       "      <td>2016</td>\n",
       "      <td>1</td>\n",
       "      <td>14</td>\n",
       "      <td>Dining bar</td>\n",
       "      <td>...</td>\n",
       "      <td>0</td>\n",
       "      <td>0</td>\n",
       "      <td>0</td>\n",
       "      <td>0</td>\n",
       "      <td>1</td>\n",
       "      <td>0</td>\n",
       "      <td>0</td>\n",
       "      <td>603</td>\n",
       "      <td>8183.0</td>\n",
       "      <td>Medium</td>\n",
       "    </tr>\n",
       "    <tr>\n",
       "      <th>2</th>\n",
       "      <td>air_ba937bf13d40fb24</td>\n",
       "      <td>2016-01-15</td>\n",
       "      <td>29.0</td>\n",
       "      <td>0.0</td>\n",
       "      <td>Friday</td>\n",
       "      <td>0</td>\n",
       "      <td>2016</td>\n",
       "      <td>1</td>\n",
       "      <td>15</td>\n",
       "      <td>Dining bar</td>\n",
       "      <td>...</td>\n",
       "      <td>1</td>\n",
       "      <td>0</td>\n",
       "      <td>0</td>\n",
       "      <td>0</td>\n",
       "      <td>0</td>\n",
       "      <td>0</td>\n",
       "      <td>0</td>\n",
       "      <td>603</td>\n",
       "      <td>8183.0</td>\n",
       "      <td>Medium</td>\n",
       "    </tr>\n",
       "    <tr>\n",
       "      <th>3</th>\n",
       "      <td>air_ba937bf13d40fb24</td>\n",
       "      <td>2016-01-16</td>\n",
       "      <td>22.0</td>\n",
       "      <td>0.0</td>\n",
       "      <td>Saturday</td>\n",
       "      <td>0</td>\n",
       "      <td>2016</td>\n",
       "      <td>1</td>\n",
       "      <td>16</td>\n",
       "      <td>Dining bar</td>\n",
       "      <td>...</td>\n",
       "      <td>0</td>\n",
       "      <td>0</td>\n",
       "      <td>1</td>\n",
       "      <td>0</td>\n",
       "      <td>0</td>\n",
       "      <td>0</td>\n",
       "      <td>0</td>\n",
       "      <td>603</td>\n",
       "      <td>8183.0</td>\n",
       "      <td>Medium</td>\n",
       "    </tr>\n",
       "    <tr>\n",
       "      <th>4</th>\n",
       "      <td>air_ba937bf13d40fb24</td>\n",
       "      <td>2016-01-18</td>\n",
       "      <td>6.0</td>\n",
       "      <td>0.0</td>\n",
       "      <td>Monday</td>\n",
       "      <td>0</td>\n",
       "      <td>2016</td>\n",
       "      <td>1</td>\n",
       "      <td>18</td>\n",
       "      <td>Dining bar</td>\n",
       "      <td>...</td>\n",
       "      <td>0</td>\n",
       "      <td>1</td>\n",
       "      <td>0</td>\n",
       "      <td>0</td>\n",
       "      <td>0</td>\n",
       "      <td>0</td>\n",
       "      <td>0</td>\n",
       "      <td>603</td>\n",
       "      <td>8183.0</td>\n",
       "      <td>Medium</td>\n",
       "    </tr>\n",
       "  </tbody>\n",
       "</table>\n",
       "<p>5 rows × 37 columns</p>\n",
       "</div>"
      ],
      "text/plain": [
       "           air_store_id  visit_date  visitors  reserved_visitors day_of_week  \\\n",
       "0  air_ba937bf13d40fb24  2016-01-13      25.0                0.0   Wednesday   \n",
       "1  air_ba937bf13d40fb24  2016-01-14      32.0                0.0    Thursday   \n",
       "2  air_ba937bf13d40fb24  2016-01-15      29.0                0.0      Friday   \n",
       "3  air_ba937bf13d40fb24  2016-01-16      22.0                0.0    Saturday   \n",
       "4  air_ba937bf13d40fb24  2016-01-18       6.0                0.0      Monday   \n",
       "\n",
       "   holiday_flg  year  month  day air_genre_name     ...     Friday  Monday  \\\n",
       "0            0  2016      1   13     Dining bar     ...          0       0   \n",
       "1            0  2016      1   14     Dining bar     ...          0       0   \n",
       "2            0  2016      1   15     Dining bar     ...          1       0   \n",
       "3            0  2016      1   16     Dining bar     ...          0       0   \n",
       "4            0  2016      1   18     Dining bar     ...          0       1   \n",
       "\n",
       "   Saturday  Sunday  Thursday  Tuesday  Wednesday  store_id  total_visitors  \\\n",
       "0         0       0         0        0          1       603          8183.0   \n",
       "1         0       0         1        0          0       603          8183.0   \n",
       "2         0       0         0        0          0       603          8183.0   \n",
       "3         1       0         0        0          0       603          8183.0   \n",
       "4         0       0         0        0          0       603          8183.0   \n",
       "\n",
       "   popularity  \n",
       "0      Medium  \n",
       "1      Medium  \n",
       "2      Medium  \n",
       "3      Medium  \n",
       "4      Medium  \n",
       "\n",
       "[5 rows x 37 columns]"
      ]
     },
     "execution_count": 392,
     "metadata": {},
     "output_type": "execute_result"
    }
   ],
   "source": [
    "train_dataset = pd.merge(train_dataset, store_popularity)\n",
    "train_dataset.head()"
   ]
  },
  {
   "cell_type": "markdown",
   "metadata": {},
   "source": [
    "### Reserve v/s Visit Data"
   ]
  },
  {
   "cell_type": "markdown",
   "metadata": {},
   "source": [
    "We need to compare and see the trend for Visit data versus the reservation data. We expect to see that the days when we had higher number of visitors should also have higher number of of reservations."
   ]
  },
  {
   "cell_type": "code",
   "execution_count": 428,
   "metadata": {
    "scrolled": false
   },
   "outputs": [
    {
     "data": {
      "image/png": "[encoded data removed]",
      "text/plain": [
       "<matplotlib.figure.Figure at 0x166270afa90>"
      ]
     },
     "metadata": {},
     "output_type": "display_data"
    }
   ],
   "source": [
    "# Get the reservation data only for those dates where the reservation data is available.\n",
    "res_data = train_dataset[[\"visit_date\",\"visitors\", \"reserved_visitors\"]]\n",
    "res_data = res_data[res_data['reserved_visitors'] > 0 ]\n",
    "# Get the total reserved visitors for all stores for each reservation date\n",
    "res_data_plot = res_data.groupby('visit_date').apply(lambda df: sum(df['reserved_visitors']))\n",
    "# Get the total actual visitors for all stores for each visit date\n",
    "visit_data_plot = res_data.groupby('visit_date').apply(lambda df: sum(df['visitors']))\n",
    "plt.figure(figsize=(15,10))\n",
    "plt.plot(res_data_plot, label = 'Reserved')\n",
    "plt.plot(visit_data_plot, label = 'Actual Visitors')\n",
    "plt.xlabel('Visit Month and Year')\n",
    "plt.ylabel('TOtal number of visitors')\n",
    "plt.legend()\n",
    "plt.show()"
   ]
  },
  {
   "cell_type": "markdown",
   "metadata": {},
   "source": [
    "There is a clear time series trend in the data. The number for visitors and reservation is lower in the initial part of July after which we see a jump in the reservations and visitor numbers. The gap in the reservated and visited numbers from July to August,2016 is due to unavailability of the reservation data during that period.\n",
    "\n",
    "The continuous surge and drops in the number is clear sign of weekly seasonality. Also the reservation and visit data seem to varying similarly so we can expect the reservation information to be an important parameter to predict the visitors. "
   ]
  },
  {
   "cell_type": "markdown",
   "metadata": {},
   "source": [
    "#### Day of the week data"
   ]
  },
  {
   "cell_type": "markdown",
   "metadata": {},
   "source": [
    "Analyzing the day of the week to understand which days have higher number of visitors. We expect to see that weekends will generally have higher number of visitors. And as can be seen in the graph that Saturday has highest vistors followed by Sunday and Friday."
   ]
  },
  {
   "cell_type": "code",
   "execution_count": 429,
   "metadata": {},
   "outputs": [
    {
     "data": {
      "image/png": "[encoded data removed]",
      "text/plain": [
       "<matplotlib.figure.Figure at 0x1663f756ac8>"
      ]
     },
     "metadata": {},
     "output_type": "display_data"
    }
   ],
   "source": [
    "# without removing the missing data for reservation \n",
    "dow_data = train_dataset[[\"day_of_week\",\"visitors\"]]\n",
    "dow_data_plot = dow_data.groupby('day_of_week')['visitors'].mean().sort_values() \n",
    "\n",
    "# fig, ax = plt.subplots()\n",
    "# ax.barh(y_pos, performance,align='center',\n",
    "#         color='green', ecolor='black')\n",
    "dow_data_plot.plot.bar(sort_columns = True)\n",
    "plt.title('Average visitors per day of week')\n",
    "plt.xticks(rotation = 20)\n",
    "plt.ylabel('Average visitors')\n",
    "plt.xlabel('Day of the week')\n",
    "plt.show()"
   ]
  },
  {
   "cell_type": "code",
   "execution_count": 465,
   "metadata": {},
   "outputs": [
    {
     "data": {
      "image/png": "[encoded data removed]",
      "text/plain": [
       "<matplotlib.figure.Figure at 0x1663eeb0668>"
      ]
     },
     "metadata": {},
     "output_type": "display_data"
    }
   ],
   "source": [
    "# without removing the missing data for reservation \n",
    "dow_data = train_dataset[[\"day_of_week\",\"visitors\"]]\n",
    "dow_data_plot = dow_data.groupby('day_of_week')['visitors'].sum().sort_values() \n",
    "\n",
    "# fig, ax = plt.subplots()\n",
    "# ax.barh(y_pos, performance,align='center',\n",
    "#         color='green', ecolor='black')\n",
    "dow_data_plot.plot.bar(sort_columns = True)\n",
    "plt.title('Total visitors per day of week')\n",
    "plt.xticks(rotation = 20)\n",
    "plt.ylabel('Average visitors')\n",
    "plt.xlabel('Day of the week')\n",
    "plt.show()"
   ]
  },
  {
   "cell_type": "code",
   "execution_count": 431,
   "metadata": {},
   "outputs": [
    {
     "data": {
      "text/plain": [
       "day_of_week\n",
       "Monday       474928.0\n",
       "Tuesday      557290.0\n",
       "Wednesday    618776.0\n",
       "Sunday       621321.0\n",
       "Thursday     629464.0\n",
       "Friday       795401.0\n",
       "Saturday     883786.0\n",
       "Name: visitors, dtype: float64"
      ]
     },
     "execution_count": 431,
     "metadata": {},
     "output_type": "execute_result"
    }
   ],
   "source": [
    "dow_data_plot"
   ]
  },
  {
   "cell_type": "markdown",
   "metadata": {},
   "source": [
    "### EDA for Genre and Area of restaurant"
   ]
  },
  {
   "cell_type": "code",
   "execution_count": 432,
   "metadata": {
    "scrolled": true
   },
   "outputs": [
    {
     "data": {
      "image/png": "[encoded data removed]",
      "text/plain": [
       "<matplotlib.figure.Figure at 0x166270f5438>"
      ]
     },
     "metadata": {},
     "output_type": "display_data"
    }
   ],
   "source": [
    "# Average visitors for top 10 areas of  the restaurants\n",
    "genre_data = train_dataset[[\"air_area_name\",\"visitors\"]]\n",
    "genre_data_plot = genre_data.groupby('air_area_name')['visitors'].mean().sort_values()\n",
    "\n",
    "genre_data_plot[:10].plot.barh()\n",
    "plt.title('Average visitors per Area')\n",
    "plt.ylabel('Average visitors')\n",
    "plt.show()"
   ]
  },
  {
   "cell_type": "code",
   "execution_count": 444,
   "metadata": {},
   "outputs": [
    {
     "data": {
      "image/png": "[encoded data removed]",
      "text/plain": [
       "<matplotlib.figure.Figure at 0x16640344908>"
      ]
     },
     "metadata": {},
     "output_type": "display_data"
    }
   ],
   "source": [
    "# Average visitors for top 10 areas of  the restaurants\n",
    "# plt.figure(figsize = (7,7))\n",
    "genre_data = train_dataset[[\"air_genre_name\",\"visitors\"]]\n",
    "# genre_data[\"air_genre_name\"] = \n",
    "d = {'Okonomiyaki/Monja/Teppanyaki': 'Teppanyaki', 'Yakiniku/Korean food' : 'Korean'}\n",
    "genre_data =  genre_data.replace(d)\n",
    "genre_data_plot = genre_data.groupby('air_genre_name')['visitors'].mean().sort_values()\n",
    "\n",
    "#genre_data_plot.plot.bar()\n",
    "genre_data_plot.plot(kind = 'bar')\n",
    "plt.grid(False)\n",
    "plt.xticks(rotation = 90)\n",
    "plt.title('Average visitors per Genre')\n",
    "plt.xlabel('Restaurant Genre')\n",
    "plt.ylabel('Average visitors')\n",
    "plt.show()"
   ]
  },
  {
   "cell_type": "markdown",
   "metadata": {},
   "source": [
    "### Evaluation metrics - RMSLE & RMSE functions"
   ]
  },
  {
   "cell_type": "code",
   "execution_count": 394,
   "metadata": {
    "collapsed": true
   },
   "outputs": [],
   "source": [
    "#A function to calculate Root Mean Squared Logarithmic Error (RMSLE)\n",
    "from sklearn.metrics import mean_squared_error\n",
    "from math import sqrt\n",
    "def rmsle(y, y_pred):\n",
    "    assert len(y) == len(y_pred)\n",
    "    terms_to_sum = [(math.log(y_pred[i] + 1) - math.log(y[i] + 1)) ** 2.0 for i,pred in enumerate(y_pred)]\n",
    "    return (sum(terms_to_sum) * (1.0/len(y))) ** 0.5"
   ]
  },
  {
   "cell_type": "markdown",
   "metadata": {},
   "source": [
    "### 3. Methodology"
   ]
  },
  {
   "cell_type": "markdown",
   "metadata": {},
   "source": [
    "### Time Series Approach"
   ]
  },
  {
   "cell_type": "markdown",
   "metadata": {},
   "source": [
    "##### ARIMA"
   ]
  },
  {
   "cell_type": "code",
   "execution_count": 434,
   "metadata": {
    "collapsed": true
   },
   "outputs": [],
   "source": [
    "import warnings\n",
    "warnings.filterwarnings(\"ignore\")"
   ]
  },
  {
   "cell_type": "code",
   "execution_count": 435,
   "metadata": {
    "collapsed": true
   },
   "outputs": [],
   "source": [
    "visit_reserve[\"visit_date\"] = pd.to_datetime(visit_reserve[\"visit_date\"], format=\"%Y/%m/%d\")\n",
    "data = visit_reserve[[\"visit_date\",\"visitors\"]]\n",
    "data_visitors = data.groupby('visit_date').apply(lambda df: sum(df['visitors']))"
   ]
  },
  {
   "cell_type": "code",
   "execution_count": 436,
   "metadata": {},
   "outputs": [
    {
     "data": {
      "text/plain": [
       "[<matplotlib.lines.Line2D at 0x166270dde48>]"
      ]
     },
     "execution_count": 436,
     "metadata": {},
     "output_type": "execute_result"
    },
    {
     "data": {
      "image/png": "[encoded data removed]",
      "text/plain": [
       "<matplotlib.figure.Figure at 0x16627094da0>"
      ]
     },
     "metadata": {},
     "output_type": "display_data"
    }
   ],
   "source": [
    "plt.figure(figsize=(20,10))\n",
    "plt.plot(data_visitors)"
   ]
  },
  {
   "cell_type": "code",
   "execution_count": 437,
   "metadata": {
    "collapsed": true
   },
   "outputs": [],
   "source": [
    "from statsmodels.tsa.arima_model import ARIMA"
   ]
  },
  {
   "cell_type": "code",
   "execution_count": 438,
   "metadata": {},
   "outputs": [
    {
     "name": "stdout",
     "output_type": "stream",
     "text": [
      "821\n"
     ]
    }
   ],
   "source": [
    "t_store_id = test_dataset['air_store_id'].drop_duplicates()\n",
    "t_store_id = t_store_id.tolist()\n",
    "print (len(t_store_id))"
   ]
  },
  {
   "cell_type": "code",
   "execution_count": 439,
   "metadata": {
    "scrolled": true
   },
   "outputs": [
    {
     "name": "stdout",
     "output_type": "stream",
     "text": [
      "ARIMA results:\n",
      "Final RMSLE score: 0.599611664679\n",
      "Final RMSE score: 11.0930864588\n"
     ]
    }
   ],
   "source": [
    "rmsle_list,rmse_list =[],[]\n",
    "for store in t_store_id:\n",
    "    store_df = visit_reserve.loc[visit_reserve['air_store_id'] == store]\n",
    "    store_df = store_df[[\"visit_date\",\"visitors\"]]\n",
    "\n",
    "    store_df_ts = store_df.set_index('visit_date')\n",
    "    ts = store_df_ts['visitors'].astype('float')\n",
    "    \n",
    "    size = int(len(ts) * 0.90)\n",
    "    train, test = ts[0:size], ts[size:len(ts)]\n",
    "    #history = [x for x in train]\n",
    "    \n",
    "    predictions = list()\n",
    "    for t in range(len(test)):\n",
    "        model = ARIMA(ts, order=(0,1,1))\n",
    "        #model = ARIMA(ts)\n",
    "        model_fit = model.fit(disp=0)\n",
    "        output = model_fit.forecast()\n",
    "        pred = output[0]\n",
    "        predictions.append(pred)\n",
    "        obs = test[t]\n",
    "        \n",
    "    rmsle_list.append(rmsle(test,predictions))\n",
    "    rmse_list.append(sqrt(mean_squared_error(test,predictions)))\n",
    "#error = mean_squared_error(test, predictions)\n",
    "print (\"ARIMA results:\")\n",
    "print (\"Final RMSLE score:\",np.mean(rmsle_list))\n",
    "print (\"Final RMSE score:\",np.mean(rmse_list))"
   ]
  },
  {
   "cell_type": "markdown",
   "metadata": {},
   "source": [
    "##### GPRegression"
   ]
  },
  {
   "cell_type": "code",
   "execution_count": 395,
   "metadata": {},
   "outputs": [
    {
     "name": "stdout",
     "output_type": "stream",
     "text": [
      "Final RMSLE score: 1.46572630732\n",
      "Final RMSE score: 18.280202269\n"
     ]
    }
   ],
   "source": [
    "#Running separate regressions store-wise and averaging out the RMSLE at the end\n",
    "from sklearn import gaussian_process\n",
    "rmsle_list,rmse_list =[],[]\n",
    "for store in t_store_id:\n",
    "    pred,expect =[],[]\n",
    "    store_df_train = train_dataset.loc[train_dataset['air_store_id'] == store]\n",
    "    x_train = pd.DataFrame(store_df_train[['day','month','year']])\n",
    "    y_train = pd.DataFrame(store_df_train[['visitors']])\n",
    "    \n",
    "    store_df_test = test_dataset.loc[test_dataset['air_store_id'] == store]\n",
    "    x_test = pd.DataFrame(store_df_test[['day','month','year']])\n",
    "    y_test = pd.DataFrame(store_df_test[['visitors']])\n",
    "    \n",
    "    gp = gaussian_process.GaussianProcessRegressor()\n",
    "    gp.fit(x_train, y_train)\n",
    "    predicted = gp.predict(x_test)\n",
    "    expected = np.array(y_test)\n",
    "    \n",
    "    for i in predicted:\n",
    "        for j in i:\n",
    "            if j<0:\n",
    "                j=0\n",
    "            pred.append(j)\n",
    "\n",
    "    for i in expected:\n",
    "        for j in i:\n",
    "            expect.append(j+1)\n",
    "    rmsle_list.append(rmsle(expect,pred))\n",
    "    rmse_list.append(sqrt(mean_squared_error(expect,pred)))\n",
    "print (\"Final RMSLE score:\",np.mean(rmsle_list))\n",
    "print (\"Final RMSE score:\",np.mean(rmse_list))"
   ]
  },
  {
   "cell_type": "markdown",
   "metadata": {},
   "source": [
    "#### Adding all the store and date level features to GP Regression"
   ]
  },
  {
   "cell_type": "code",
   "execution_count": 396,
   "metadata": {},
   "outputs": [
    {
     "name": "stdout",
     "output_type": "stream",
     "text": [
      "Final RMSLE score: 1.59031576444\n",
      "Final RMSE score: 19.7138964014\n"
     ]
    }
   ],
   "source": [
    "rmsle_list,rmse_list =[],[]\n",
    "for store in t_store_id:\n",
    "    pred,expect =[],[]\n",
    "    store_df_train = train_dataset.loc[train_dataset['air_store_id'] == store]\n",
    "    x_train = pd.DataFrame(store_df_train[['day','month','year',\n",
    "                                      'Sunday','Monday','Tuesday','Wednesday','Thursday','Friday','Saturday',\n",
    "                                      'holiday_flg','Dining bar', 'Izakaya','Cafe/Sweets', 'Italian/French','Other', \n",
    "                                        'Yakiniku/Korean food','Japanese food','Okonomiyaki/Monja/Teppanyaki',\n",
    "                                            'Bar/Cocktail', 'Creative cuisine',\n",
    "                                            'Western food', 'Asian',\n",
    "                                            'International cuisine', 'Karaoke/Party','reserved_visitors','latitude','longitude' ]])\n",
    "    y_train = pd.DataFrame(store_df_train[['visitors']])\n",
    "    \n",
    "    store_df_test = test_dataset.loc[test_dataset['air_store_id'] == store]\n",
    "    x_test = pd.DataFrame(store_df_test[['day','month','year',\n",
    "                                      'Sunday','Monday','Tuesday','Wednesday','Thursday','Friday','Saturday',\n",
    "                                      'holiday_flg','Dining bar', 'Izakaya','Cafe/Sweets', 'Italian/French','Other', \n",
    "                                        'Yakiniku/Korean food','Japanese food','Okonomiyaki/Monja/Teppanyaki',\n",
    "                                            'Bar/Cocktail', 'Creative cuisine',\n",
    "                                            'Western food', 'Asian',\n",
    "                                            'International cuisine', 'Karaoke/Party','reserved_visitors','latitude','longitude' ]])\n",
    "    y_test = pd.DataFrame(store_df_test[['visitors']])\n",
    "    \n",
    "    gp = gaussian_process.GaussianProcessRegressor()\n",
    "    gp.fit(x_train, y_train)\n",
    "    predicted = gp.predict(x_test)\n",
    "    expected = np.array(y_test)\n",
    "    \n",
    "    for i in predicted:\n",
    "        for j in i:\n",
    "            if j<0:\n",
    "                j=0\n",
    "            pred.append(j)\n",
    "\n",
    "    for i in expected:\n",
    "        for j in i:\n",
    "            expect.append(j+1)\n",
    "    #print (expect,pred)\n",
    "    #print (rmsle(expect,pred))\n",
    "    rmsle_list.append(rmsle(expect,pred))\n",
    "    rmse_list.append(sqrt(mean_squared_error(expect,pred)))\n",
    "\n",
    "print (\"Final RMSLE score:\",np.mean(rmsle_list))\n",
    "print (\"Final RMSE score:\",np.mean(rmse_list))"
   ]
  },
  {
   "cell_type": "markdown",
   "metadata": {},
   "source": [
    "### Decision Trees and Ensemble Modeling "
   ]
  },
  {
   "cell_type": "markdown",
   "metadata": {},
   "source": [
    "##### Decision Tree Regression"
   ]
  },
  {
   "cell_type": "code",
   "execution_count": 397,
   "metadata": {},
   "outputs": [
    {
     "name": "stdout",
     "output_type": "stream",
     "text": [
      "Decision Tree:\n",
      "Final RMSLE score: 0.60978356157\n",
      "Final RMSE score: 11.6683733071\n"
     ]
    }
   ],
   "source": [
    "from sklearn.tree import DecisionTreeRegressor\n",
    "#Running separate regressions store-wise and averaging out the RMSLE at the end\n",
    "rmsle_list,rmse_list =[],[]\n",
    "for store in t_store_id:\n",
    "    pred,expect =[],[]\n",
    "    store_df_train = train_dataset.loc[train_dataset['air_store_id'] == store]\n",
    "    x_train = pd.DataFrame(store_df_train[['store_id','day','month','year',\n",
    "                                      'Sunday','Monday','Tuesday','Wednesday','Thursday','Friday','Saturday',\n",
    "                                      'holiday_flg','Dining bar', 'Izakaya','Cafe/Sweets', 'Italian/French','Other', \n",
    "                                        'Yakiniku/Korean food','Japanese food','Okonomiyaki/Monja/Teppanyaki',\n",
    "                                            'Bar/Cocktail', 'Creative cuisine',\n",
    "                                            'Western food', 'Asian',\n",
    "                                            'International cuisine', 'Karaoke/Party','reserved_visitors',\n",
    "                                           'latitude','longitude' ]])\n",
    "    y_train = pd.DataFrame(store_df_train[['visitors']])\n",
    "    \n",
    "    store_df_test = test_dataset.loc[test_dataset['air_store_id'] == store]\n",
    "    x_test = pd.DataFrame(store_df_test[['store_id','day','month','year',\n",
    "                                      'Sunday','Monday','Tuesday','Wednesday','Thursday','Friday','Saturday',\n",
    "                                      'holiday_flg','Dining bar', 'Izakaya','Cafe/Sweets', 'Italian/French','Other', \n",
    "                                        'Yakiniku/Korean food','Japanese food','Okonomiyaki/Monja/Teppanyaki',\n",
    "                                            'Bar/Cocktail', 'Creative cuisine',\n",
    "                                            'Western food', 'Asian',\n",
    "                                            'International cuisine', 'Karaoke/Party','reserved_visitors',\n",
    "                                         'latitude','longitude' ]])\n",
    "    y_test = pd.DataFrame(store_df_test[['visitors']])\n",
    "    \n",
    "    dc = DecisionTreeRegressor(max_depth=10,criterion=\"mse\")\n",
    "    dc.fit(x_train, y_train)\n",
    "    predicted = dc.predict(x_test)\n",
    "    expected = np.array(y_test)\n",
    "    \n",
    "    for i in predicted:\n",
    "        if i<0:\n",
    "            i=0\n",
    "        pred.append(i)\n",
    "    \n",
    "    for i in expected:\n",
    "        for j in i:\n",
    "            expect.append(j)\n",
    "    rmsle_list.append(rmsle(expect,pred))\n",
    "    rmse_list.append(sqrt(mean_squared_error(expect,pred)))\n",
    "print (\"Decision Tree:\")\n",
    "print (\"Final RMSLE score:\",np.mean(rmsle_list))\n",
    "print (\"Final RMSE score:\",np.mean(rmse_list))"
   ]
  },
  {
   "cell_type": "markdown",
   "metadata": {},
   "source": [
    "##### Random Forest"
   ]
  },
  {
   "cell_type": "code",
   "execution_count": 398,
   "metadata": {},
   "outputs": [
    {
     "name": "stdout",
     "output_type": "stream",
     "text": [
      "Random Forest:\n",
      "Final RMSLE score: 0.50577767035\n",
      "Final RMSE score: 9.54229562472\n"
     ]
    }
   ],
   "source": [
    "from sklearn.ensemble import RandomForestRegressor\n",
    "#Running separate regressions store-wise and averaging out the RMSLE at the end\n",
    "rmsle_list,rmse_list =[],[]\n",
    "for store in t_store_id:\n",
    "    pred,expect =[],[]\n",
    "    store_df_train = train_dataset.loc[train_dataset['air_store_id'] == store]\n",
    "    x_train = pd.DataFrame(store_df_train[['store_id','day','month','year',\n",
    "                                      'Sunday','Monday','Tuesday','Wednesday','Thursday','Friday','Saturday',\n",
    "                                      'holiday_flg','Dining bar', 'Izakaya','Cafe/Sweets', 'Italian/French','Other', \n",
    "                                        'Yakiniku/Korean food','Japanese food','Okonomiyaki/Monja/Teppanyaki',\n",
    "                                            'Bar/Cocktail', 'Creative cuisine',\n",
    "                                            'Western food', 'Asian',\n",
    "                                            'International cuisine', 'Karaoke/Party','reserved_visitors',\n",
    "                                           'latitude','longitude' ]])\n",
    "    y_train = pd.DataFrame(store_df_train[['visitors']])\n",
    "    \n",
    "    store_df_test = test_dataset.loc[test_dataset['air_store_id'] == store]\n",
    "    x_test = pd.DataFrame(store_df_test[['store_id','day','month','year',\n",
    "                                      'Sunday','Monday','Tuesday','Wednesday','Thursday','Friday','Saturday',\n",
    "                                      'holiday_flg','Dining bar', 'Izakaya','Cafe/Sweets', 'Italian/French','Other', \n",
    "                                        'Yakiniku/Korean food','Japanese food','Okonomiyaki/Monja/Teppanyaki',\n",
    "                                            'Bar/Cocktail', 'Creative cuisine',\n",
    "                                            'Western food', 'Asian',\n",
    "                                            'International cuisine', 'Karaoke/Party','reserved_visitors',\n",
    "                                         'latitude','longitude' ]])\n",
    "    y_test = pd.DataFrame(store_df_test[['visitors']])\n",
    "    \n",
    "    rf = RandomForestRegressor(criterion=\"mse\",n_estimators=200,max_depth=10)\n",
    "    rf.fit(x_train, y_train)\n",
    "    predicted = rf.predict(x_test)\n",
    "    expected = np.array(y_test)\n",
    "    \n",
    "    for i in predicted:\n",
    "        if i<0:\n",
    "            i=0\n",
    "        pred.append(i)\n",
    "    \n",
    "    for i in expected:\n",
    "        for j in i:\n",
    "            expect.append(j)\n",
    "    rmsle_list.append(rmsle(expect,pred))\n",
    "    rmse_list.append(sqrt(mean_squared_error(expect,pred)))\n",
    "print (\"Random Forest:\")\n",
    "print (\"Final RMSLE score:\",np.mean(rmsle_list))\n",
    "print (\"Final RMSE score:\",np.mean(rmse_list))"
   ]
  },
  {
   "cell_type": "markdown",
   "metadata": {},
   "source": [
    "##### XG Boost"
   ]
  },
  {
   "cell_type": "markdown",
   "metadata": {},
   "source": [
    "#### Code for baseline model of XGBoost"
   ]
  },
  {
   "cell_type": "code",
   "execution_count": 399,
   "metadata": {},
   "outputs": [
    {
     "name": "stdout",
     "output_type": "stream",
     "text": [
      "Final RMSLE score: 0.604883668246\n",
      "Final RMSE score: 11.6307389558\n"
     ]
    }
   ],
   "source": [
    "#Running separate regressions store-wise and averaging out the RMSLE at the end\n",
    "rmsle_list,rmse_list =[],[]\n",
    "for store in t_store_id:\n",
    "    pred,expect =[],[]\n",
    "    store_df_train = train_dataset.loc[train_dataset['air_store_id'] == store]\n",
    "    x_train = pd.DataFrame(store_df_train[['day','month','year']])\n",
    "    y_train = pd.DataFrame(store_df_train[['visitors']])\n",
    "    \n",
    "    store_df_test = test_dataset.loc[test_dataset['air_store_id'] == store]\n",
    "    x_test = pd.DataFrame(store_df_test[['day','month','year']])\n",
    "    y_test = pd.DataFrame(store_df_test[['visitors']])\n",
    "    \n",
    "    xgb_basemodel = XGBRegressor(learning_rate=0.2,n_estimators=300,max_depth=1)\n",
    "    xgb_basemodel.fit(x_train, y_train)\n",
    "    predicted = xgb_basemodel.predict(x_test)\n",
    "    expected = np.array(y_test)\n",
    "    \n",
    "    for i in predicted:\n",
    "        if i<0:\n",
    "            i=0\n",
    "        pred.append(i)\n",
    "    \n",
    "    for i in expected:\n",
    "        for j in i:\n",
    "            expect.append(j)\n",
    "    rmsle_list.append(rmsle(expect,pred))\n",
    "    rmse_list.append(sqrt(mean_squared_error(expect,pred)))\n",
    "print (\"Final RMSLE score:\",np.mean(rmsle_list))\n",
    "print (\"Final RMSE score:\",np.mean(rmse_list))"
   ]
  },
  {
   "cell_type": "markdown",
   "metadata": {},
   "source": [
    "#### XGBoost with all features and cross-validated parameters"
   ]
  },
  {
   "cell_type": "code",
   "execution_count": 261,
   "metadata": {},
   "outputs": [
    {
     "name": "stdout",
     "output_type": "stream",
     "text": [
      "Final RMSLE score: 0.506706428296\n",
      "Final RMSE score: 9.22132410672\n"
     ]
    }
   ],
   "source": [
    "#Running separate regressions store-wise and averaging out the RMSLE at the end\n",
    "from sklearn.model_selection import GridSearchCV\n",
    "rmsle_list,rmse_list,depths =[],[],[]\n",
    "pred2,expect2 =[],[]\n",
    "cv_params = {'max_depth': [1,2,3,4,5,6,7,8,9,10]}\n",
    "for store in t_store_id:\n",
    "    pred,expect =[],[]\n",
    "    store_df_train = train_dataset.loc[train_dataset['air_store_id'] == store]\n",
    "    x_train = pd.DataFrame(store_df_train[['store_id','day','month','year',\n",
    "                                      'Sunday','Monday','Tuesday','Wednesday','Thursday','Friday','Saturday',\n",
    "                                      'holiday_flg','Dining bar', 'Izakaya','Cafe/Sweets', 'Italian/French','Other', \n",
    "                                        'Yakiniku/Korean food','Japanese food','Okonomiyaki/Monja/Teppanyaki',\n",
    "                                            'Bar/Cocktail', 'Creative cuisine',\n",
    "                                            'Western food', 'Asian',\n",
    "                                            'International cuisine', 'Karaoke/Party','reserved_visitors']])\n",
    "    y_train = pd.DataFrame(store_df_train[['visitors']])\n",
    "    \n",
    "    store_df_test = test_dataset.loc[test_dataset['air_store_id'] == store]\n",
    "    x_test = pd.DataFrame(store_df_test[['store_id','day','month','year',\n",
    "                                      'Sunday','Monday','Tuesday','Wednesday','Thursday','Friday','Saturday',\n",
    "                                      'holiday_flg','Dining bar', 'Izakaya','Cafe/Sweets', 'Italian/French','Other', \n",
    "                                        'Yakiniku/Korean food','Japanese food','Okonomiyaki/Monja/Teppanyaki',\n",
    "                                            'Bar/Cocktail', 'Creative cuisine',\n",
    "                                            'Western food', 'Asian',\n",
    "                                            'International cuisine', 'Karaoke/Party','reserved_visitors']])\n",
    "    y_test = pd.DataFrame(store_df_test[['visitors']])\n",
    "    if (len(x_train)>= 10):\n",
    "        xgb_model3 = XGBRegressor(learning_rate=0.2,n_estimators=300)\n",
    "        optimized_GBM = GridSearchCV(xgb_model3,cv_params, cv = 5) \n",
    "        optimized_GBM.fit(x_train,y_train)\n",
    "        best_depth = optimized_GBM.best_params_['max_depth']\n",
    "        depths.append(best_depth)\n",
    "\n",
    "        xgb_model4 = XGBRegressor(learning_rate=0.2,n_estimators=300,max_depth=best_depth)\n",
    "        xgb_model4.fit(x_train,y_train)\n",
    "        predicted = xgb_model4.predict(x_test)\n",
    "        expected = np.array(y_test)\n",
    "\n",
    "        for i in predicted:\n",
    "            if i<0:\n",
    "                i=0\n",
    "            pred.append(i)\n",
    "            pred2.append(i)\n",
    "\n",
    "        for i in expected:\n",
    "            for j in i:\n",
    "                expect.append(j)\n",
    "                expect2.append(j)\n",
    "        rmsle_list.append(rmsle(expect,pred))\n",
    "        rmse_list.append(sqrt(mean_squared_error(expect,pred)))\n",
    "        \n",
    "print (\"Final RMSLE score:\",np.mean(rmsle_list))\n",
    "print (\"Final RMSE score:\",np.mean(rmse_list))"
   ]
  },
  {
   "cell_type": "markdown",
   "metadata": {},
   "source": [
    "### 4. Model Evaluation"
   ]
  },
  {
   "cell_type": "code",
   "execution_count": 401,
   "metadata": {},
   "outputs": [],
   "source": [
    "removable_stores = []\n",
    "for store in t_store_id:\n",
    "    store_df_train = train_dataset.loc[train_dataset['air_store_id'] == store]\n",
    "    if (len(store_df_train)< 10):\n",
    "        removable_stores.append(store)"
   ]
  },
  {
   "cell_type": "code",
   "execution_count": 402,
   "metadata": {},
   "outputs": [
    {
     "name": "stdout",
     "output_type": "stream",
     "text": [
      "30623\n"
     ]
    }
   ],
   "source": [
    "test_dataset = test_dataset[test_dataset['air_store_id'] != 'air_789103bf53b8096b' ]\n",
    "test_dataset = test_dataset[test_dataset['air_store_id'] != 'air_cf5ab75a0afb8af9' ]\n",
    "test_dataset = test_dataset[test_dataset['air_store_id'] != 'air_1c0b150f9e696a5f' ]\n",
    "test_dataset = test_dataset[test_dataset['air_store_id'] != 'air_900d755ebd2f7bbd' ]\n",
    "test_dataset = test_dataset[test_dataset['air_store_id'] != 'air_a17f0778617c76e2' ]\n",
    "print (len(test_dataset))"
   ]
  },
  {
   "cell_type": "markdown",
   "metadata": {},
   "source": [
    "### Deep dive of results"
   ]
  },
  {
   "cell_type": "markdown",
   "metadata": {},
   "source": [
    "#### Genre vs RMSLE"
   ]
  },
  {
   "cell_type": "code",
   "execution_count": 467,
   "metadata": {},
   "outputs": [
    {
     "data": {
      "text/plain": [
       "<matplotlib.axes._subplots.AxesSubplot at 0x1663ec28518>"
      ]
     },
     "execution_count": 467,
     "metadata": {},
     "output_type": "execute_result"
    },
    {
     "data": {
      "image/png": "[encoded data removed]",
      "text/plain": [
       "<matplotlib.figure.Figure at 0x1663e981048>"
      ]
     },
     "metadata": {},
     "output_type": "display_data"
    }
   ],
   "source": [
    "test_dataset['pred2'] = pred2\n",
    "test_dataset['expect2'] = expect2\n",
    "test_genre = test_dataset.groupby('air_genre_name').apply(lambda df:rmsle(np.array(df['visitors']),np.array(df['pred2'])))\n",
    "#plt.figure(figsize=(20,10))\n",
    "test_genre.plot(kind = 'bar')"
   ]
  },
  {
   "cell_type": "markdown",
   "metadata": {},
   "source": [
    "#### Understanding error through day of the week"
   ]
  },
  {
   "cell_type": "code",
   "execution_count": 315,
   "metadata": {},
   "outputs": [
    {
     "data": {
      "text/plain": [
       "Text(0,0.5,'RMSE score')"
      ]
     },
     "execution_count": 315,
     "metadata": {},
     "output_type": "execute_result"
    },
    {
     "data": {
      "image/png": "[encoded data removed]",
      "text/plain": [
       "<matplotlib.figure.Figure at 0x1663f721320>"
      ]
     },
     "metadata": {},
     "output_type": "display_data"
    }
   ],
   "source": [
    "test_week = test_dataset.groupby('day_of_week').apply(lambda df:sqrt(mean_squared_error(np.array(df['visitors']),np.array(df['pred2']))))\n",
    "plt.figure(figsize=(5,5))\n",
    "test_week.plot(kind = 'bar')\n",
    "plt.xlabel(\"Day of the week\")\n",
    "plt.ylabel(\"RMSE score\")"
   ]
  },
  {
   "cell_type": "code",
   "execution_count": 326,
   "metadata": {},
   "outputs": [],
   "source": [
    "# without removing the missing data for reservation \n",
    "dow_data = train_dataset[[\"day_of_week\",\"visitors\"]]\n",
    "dow_data_plot = dow_data.groupby('day_of_week')['visitors'].mean().sort_values() \n",
    "day_avg_visitors = dow_data_plot.reset_index().rename(columns={'visitors': 'Average_Visitors'})\n",
    "\n",
    "test_week = test_dataset.groupby('day_of_week').apply(lambda df:sqrt(mean_squared_error(np.array(df['visitors']),np.array(df['pred2']))))\n",
    "day_rmse = test_week.reset_index().rename(columns={0: 'RMSE'})"
   ]
  },
  {
   "cell_type": "code",
   "execution_count": 360,
   "metadata": {},
   "outputs": [
    {
     "data": {
      "text/html": [
       "\n",
       "    <div class=\"bk-root\">\n",
       "        <a href=\"http://bokeh.pydata.org\" target=\"_blank\" class=\"bk-logo bk-logo-small bk-logo-notebook\"></a>\n",
       "        <span id=\"c181e78e-fa90-4df9-ba52-d9ddf52d279a\">Loading BokehJS ...</span>\n",
       "    </div>"
      ]
     },
     "metadata": {},
     "output_type": "display_data"
    },
    {
     "data": {
      "application/javascript": [
       "\n",
       "(function(global) {\n",
       "  function now() {\n",
       "    return new Date();\n",
       "  }\n",
       "\n",
       "  var force = true;\n",
       "\n",
       "  if (typeof (window._bokeh_onload_callbacks) === \"undefined\" || force === true) {\n",
       "    window._bokeh_onload_callbacks = [];\n",
       "    window._bokeh_is_loading = undefined;\n",
       "  }\n",
       "\n",
       "\n",
       "  \n",
       "  if (typeof (window._bokeh_timeout) === \"undefined\" || force === true) {\n",
       "    window._bokeh_timeout = Date.now() + 5000;\n",
       "    window._bokeh_failed_load = false;\n",
       "  }\n",
       "\n",
       "  var NB_LOAD_WARNING = {'data': {'text/html':\n",
       "     \"<div style='background-color: #fdd'>\\n\"+\n",
       "     \"<p>\\n\"+\n",
       "     \"BokehJS does not appear to have successfully loaded. If loading BokehJS from CDN, this \\n\"+\n",
       "     \"may be due to a slow or bad network connection. Possible fixes:\\n\"+\n",
       "     \"</p>\\n\"+\n",
       "     \"<ul>\\n\"+\n",
       "     \"<li>re-rerun `output_notebook()` to attempt to load from CDN again, or</li>\\n\"+\n",
       "     \"<li>use INLINE resources instead, as so:</li>\\n\"+\n",
       "     \"</ul>\\n\"+\n",
       "     \"<code>\\n\"+\n",
       "     \"from bokeh.resources import INLINE\\n\"+\n",
       "     \"output_notebook(resources=INLINE)\\n\"+\n",
       "     \"</code>\\n\"+\n",
       "     \"</div>\"}};\n",
       "\n",
       "  function display_loaded() {\n",
       "    if (window.Bokeh !== undefined) {\n",
       "      var el = document.getElementById(\"c181e78e-fa90-4df9-ba52-d9ddf52d279a\");\n",
       "      el.textContent = \"BokehJS \" + Bokeh.version + \" successfully loaded.\";\n",
       "    } else if (Date.now() < window._bokeh_timeout) {\n",
       "      setTimeout(display_loaded, 100)\n",
       "    }\n",
       "  }\n",
       "\n",
       "  function run_callbacks() {\n",
       "    window._bokeh_onload_callbacks.forEach(function(callback) { callback() });\n",
       "    delete window._bokeh_onload_callbacks\n",
       "    console.info(\"Bokeh: all callbacks have finished\");\n",
       "  }\n",
       "\n",
       "  function load_libs(js_urls, callback) {\n",
       "    window._bokeh_onload_callbacks.push(callback);\n",
       "    if (window._bokeh_is_loading > 0) {\n",
       "      console.log(\"Bokeh: BokehJS is being loaded, scheduling callback at\", now());\n",
       "      return null;\n",
       "    }\n",
       "    if (js_urls == null || js_urls.length === 0) {\n",
       "      run_callbacks();\n",
       "      return null;\n",
       "    }\n",
       "    console.log(\"Bokeh: BokehJS not loaded, scheduling load and callback at\", now());\n",
       "    window._bokeh_is_loading = js_urls.length;\n",
       "    for (var i = 0; i < js_urls.length; i++) {\n",
       "      var url = js_urls[i];\n",
       "      var s = document.createElement('script');\n",
       "      s.src = url;\n",
       "      s.async = false;\n",
       "      s.onreadystatechange = s.onload = function() {\n",
       "        window._bokeh_is_loading--;\n",
       "        if (window._bokeh_is_loading === 0) {\n",
       "          console.log(\"Bokeh: all BokehJS libraries loaded\");\n",
       "          run_callbacks()\n",
       "        }\n",
       "      };\n",
       "      s.onerror = function() {\n",
       "        console.warn(\"failed to load library \" + url);\n",
       "      };\n",
       "      console.log(\"Bokeh: injecting script tag for BokehJS library: \", url);\n",
       "      document.getElementsByTagName(\"head\")[0].appendChild(s);\n",
       "    }\n",
       "  };var element = document.getElementById(\"c181e78e-fa90-4df9-ba52-d9ddf52d279a\");\n",
       "  if (element == null) {\n",
       "    console.log(\"Bokeh: ERROR: autoload.js configured with elementid 'c181e78e-fa90-4df9-ba52-d9ddf52d279a' but no matching script tag was found. \")\n",
       "    return false;\n",
       "  }\n",
       "\n",
       "  var js_urls = [\"https://cdn.pydata.org/bokeh/release/bokeh-0.12.5.min.js\", \"https://cdn.pydata.org/bokeh/release/bokeh-widgets-0.12.5.min.js\"];\n",
       "\n",
       "  var inline_js = [\n",
       "    function(Bokeh) {\n",
       "      Bokeh.set_log_level(\"info\");\n",
       "    },\n",
       "    \n",
       "    function(Bokeh) {\n",
       "      \n",
       "    },\n",
       "    \n",
       "    function(Bokeh) {\n",
       "      \n",
       "      document.getElementById(\"c181e78e-fa90-4df9-ba52-d9ddf52d279a\").textContent = \"BokehJS is loading...\";\n",
       "    },\n",
       "    function(Bokeh) {\n",
       "      console.log(\"Bokeh: injecting CSS: https://cdn.pydata.org/bokeh/release/bokeh-0.12.5.min.css\");\n",
       "      Bokeh.embed.inject_css(\"https://cdn.pydata.org/bokeh/release/bokeh-0.12.5.min.css\");\n",
       "      console.log(\"Bokeh: injecting CSS: https://cdn.pydata.org/bokeh/release/bokeh-widgets-0.12.5.min.css\");\n",
       "      Bokeh.embed.inject_css(\"https://cdn.pydata.org/bokeh/release/bokeh-widgets-0.12.5.min.css\");\n",
       "    }\n",
       "  ];\n",
       "\n",
       "  function run_inline_js() {\n",
       "    \n",
       "    if ((window.Bokeh !== undefined) || (force === true)) {\n",
       "      for (var i = 0; i < inline_js.length; i++) {\n",
       "        inline_js[i](window.Bokeh);\n",
       "      }if (force === true) {\n",
       "        display_loaded();\n",
       "      }} else if (Date.now() < window._bokeh_timeout) {\n",
       "      setTimeout(run_inline_js, 100);\n",
       "    } else if (!window._bokeh_failed_load) {\n",
       "      console.log(\"Bokeh: BokehJS failed to load within specified timeout.\");\n",
       "      window._bokeh_failed_load = true;\n",
       "    } else if (force !== true) {\n",
       "      var cell = $(document.getElementById(\"c181e78e-fa90-4df9-ba52-d9ddf52d279a\")).parents('.cell').data().cell;\n",
       "      cell.output_area.append_execute_result(NB_LOAD_WARNING)\n",
       "    }\n",
       "\n",
       "  }\n",
       "\n",
       "  if (window._bokeh_is_loading === 0) {\n",
       "    console.log(\"Bokeh: BokehJS loaded, going straight to plotting\");\n",
       "    run_inline_js();\n",
       "  } else {\n",
       "    load_libs(js_urls, function() {\n",
       "      console.log(\"Bokeh: BokehJS plotting callback run at\", now());\n",
       "      run_inline_js();\n",
       "    });\n",
       "  }\n",
       "}(this));"
      ]
     },
     "metadata": {},
     "output_type": "display_data"
    }
   ],
   "source": [
    "from bokeh.plotting import figure,show\n",
    "from bokeh.charts import Bar, output_file, show\n",
    "\n",
    "# Use output_notebook if you are using an IPython or Jupyter notebook\n",
    "from bokeh.io import output_notebook\n",
    "output_notebook()\n",
    "\n",
    "df = pd.merge(day_avg_visitors, day_rmse)\n",
    "melted_df = pd.melt(df, id_vars=['day_of_week'], value_vars=['Average_Visitors','RMSE'])\n",
    "melted_df = melted_df.rename(columns={'day_of_week':'Day of week','variable': 'Attributes','value':'Visitors'})"
   ]
  },
  {
   "cell_type": "code",
   "execution_count": 361,
   "metadata": {},
   "outputs": [
    {
     "data": {
      "image/png": "[encoded data removed]",
      "text/plain": [
       "<matplotlib.figure.Figure at 0x1663e992400>"
      ]
     },
     "metadata": {},
     "output_type": "display_data"
    }
   ],
   "source": [
    "my_plot = sns.barplot(x=\"Day of week\", y=\"Visitors\",hue = \"Attributes\", \n",
    "                      data=melted_df).set_title(label=\"RMSE and Average visitors based on Days of the week\")\n",
    "plt.show()"
   ]
  },
  {
   "cell_type": "code",
   "execution_count": 288,
   "metadata": {},
   "outputs": [
    {
     "data": {
      "text/plain": [
       "Text(0,0.5,'RMSLE score')"
      ]
     },
     "execution_count": 288,
     "metadata": {},
     "output_type": "execute_result"
    },
    {
     "data": {
      "image/png": "[encoded data removed]",
      "text/plain": [
       "<matplotlib.figure.Figure at 0x1663cb7af28>"
      ]
     },
     "metadata": {},
     "output_type": "display_data"
    }
   ],
   "source": [
    "test_week = test_dataset.groupby('day_of_week').apply(lambda df:rmsle(np.array(df['visitors']),np.array(df['pred2'])))\n",
    "plt.figure(figsize=(5,5))\n",
    "test_week.plot(kind = 'bar')\n",
    "plt.xlabel(\"Day of the week\")\n",
    "plt.ylabel(\"RMSLE score\")"
   ]
  },
  {
   "cell_type": "code",
   "execution_count": 284,
   "metadata": {},
   "outputs": [
    {
     "data": {
      "text/html": [
       "<div>\n",
       "<style scoped>\n",
       "    .dataframe tbody tr th:only-of-type {\n",
       "        vertical-align: middle;\n",
       "    }\n",
       "\n",
       "    .dataframe tbody tr th {\n",
       "        vertical-align: top;\n",
       "    }\n",
       "\n",
       "    .dataframe thead th {\n",
       "        text-align: right;\n",
       "    }\n",
       "</style>\n",
       "<table border=\"1\" class=\"dataframe\">\n",
       "  <thead>\n",
       "    <tr style=\"text-align: right;\">\n",
       "      <th></th>\n",
       "      <th>day_of_week</th>\n",
       "      <th>Sample size</th>\n",
       "    </tr>\n",
       "  </thead>\n",
       "  <tbody>\n",
       "    <tr>\n",
       "      <th>0</th>\n",
       "      <td>Friday</td>\n",
       "      <td>34837</td>\n",
       "    </tr>\n",
       "    <tr>\n",
       "      <th>1</th>\n",
       "      <td>Monday</td>\n",
       "      <td>27860</td>\n",
       "    </tr>\n",
       "    <tr>\n",
       "      <th>2</th>\n",
       "      <td>Saturday</td>\n",
       "      <td>33855</td>\n",
       "    </tr>\n",
       "    <tr>\n",
       "      <th>3</th>\n",
       "      <td>Sunday</td>\n",
       "      <td>26343</td>\n",
       "    </tr>\n",
       "    <tr>\n",
       "      <th>4</th>\n",
       "      <td>Thursday</td>\n",
       "      <td>33463</td>\n",
       "    </tr>\n",
       "    <tr>\n",
       "      <th>5</th>\n",
       "      <td>Tuesday</td>\n",
       "      <td>31708</td>\n",
       "    </tr>\n",
       "    <tr>\n",
       "      <th>6</th>\n",
       "      <td>Wednesday</td>\n",
       "      <td>32442</td>\n",
       "    </tr>\n",
       "  </tbody>\n",
       "</table>\n",
       "</div>"
      ],
      "text/plain": [
       "  day_of_week  Sample size\n",
       "0      Friday        34837\n",
       "1      Monday        27860\n",
       "2    Saturday        33855\n",
       "3      Sunday        26343\n",
       "4    Thursday        33463\n",
       "5     Tuesday        31708\n",
       "6   Wednesday        32442"
      ]
     },
     "execution_count": 284,
     "metadata": {},
     "output_type": "execute_result"
    }
   ],
   "source": [
    "train_dataset.groupby('day_of_week').size().reset_index().rename(columns={0: 'sample_size'})"
   ]
  },
  {
   "cell_type": "markdown",
   "metadata": {},
   "source": [
    "#### Variance of RMSE by popularity of restaurants"
   ]
  },
  {
   "cell_type": "code",
   "execution_count": 290,
   "metadata": {},
   "outputs": [
    {
     "data": {
      "text/plain": [
       "popularity\n",
       "Very low      7.418724\n",
       "Low          10.486448\n",
       "Medium       14.180473\n",
       "High         11.888846\n",
       "Very high    12.714689\n",
       "dtype: float64"
      ]
     },
     "execution_count": 290,
     "metadata": {},
     "output_type": "execute_result"
    }
   ],
   "source": [
    "test_dataset = pd.merge(test_dataset, store_popularity)\n",
    "test_dataset.groupby('popularity').apply(lambda df:sqrt(mean_squared_error(np.array(df['visitors']),np.array(df['pred2']))))"
   ]
  },
  {
   "cell_type": "code",
   "execution_count": 311,
   "metadata": {},
   "outputs": [
    {
     "data": {
      "text/html": [
       "<div>\n",
       "<style scoped>\n",
       "    .dataframe tbody tr th:only-of-type {\n",
       "        vertical-align: middle;\n",
       "    }\n",
       "\n",
       "    .dataframe tbody tr th {\n",
       "        vertical-align: top;\n",
       "    }\n",
       "\n",
       "    .dataframe thead th {\n",
       "        text-align: right;\n",
       "    }\n",
       "</style>\n",
       "<table border=\"1\" class=\"dataframe\">\n",
       "  <thead>\n",
       "    <tr style=\"text-align: right;\">\n",
       "      <th></th>\n",
       "      <th>air_store_id</th>\n",
       "      <th>popularity</th>\n",
       "      <th>rmse</th>\n",
       "    </tr>\n",
       "  </thead>\n",
       "  <tbody>\n",
       "    <tr>\n",
       "      <th>0</th>\n",
       "      <td>air_ba937bf13d40fb24</td>\n",
       "      <td>Medium</td>\n",
       "      <td>8.439757</td>\n",
       "    </tr>\n",
       "    <tr>\n",
       "      <th>40</th>\n",
       "      <td>air_25e9888d30b386df</td>\n",
       "      <td>Very low</td>\n",
       "      <td>4.051518</td>\n",
       "    </tr>\n",
       "    <tr>\n",
       "      <th>65</th>\n",
       "      <td>air_fd6aac1043520e83</td>\n",
       "      <td>High</td>\n",
       "      <td>11.505413</td>\n",
       "    </tr>\n",
       "    <tr>\n",
       "      <th>102</th>\n",
       "      <td>air_64d4491ad8cdb1c6</td>\n",
       "      <td>Low</td>\n",
       "      <td>7.155481</td>\n",
       "    </tr>\n",
       "    <tr>\n",
       "      <th>141</th>\n",
       "      <td>air_ee3a01f0c71a769f</td>\n",
       "      <td>Medium</td>\n",
       "      <td>7.409467</td>\n",
       "    </tr>\n",
       "  </tbody>\n",
       "</table>\n",
       "</div>"
      ],
      "text/plain": [
       "             air_store_id popularity       rmse\n",
       "0    air_ba937bf13d40fb24     Medium   8.439757\n",
       "40   air_25e9888d30b386df   Very low   4.051518\n",
       "65   air_fd6aac1043520e83       High  11.505413\n",
       "102  air_64d4491ad8cdb1c6        Low   7.155481\n",
       "141  air_ee3a01f0c71a769f     Medium   7.409467"
      ]
     },
     "execution_count": 311,
     "metadata": {},
     "output_type": "execute_result"
    }
   ],
   "source": [
    "test_dataset_subset = test_dataset[['air_store_id','popularity']].drop_duplicates()\n",
    "series = pd.Series(rmse_list)\n",
    "test_dataset_subset['rmse'] = series.values\n",
    "test_dataset_subset.head()"
   ]
  },
  {
   "cell_type": "code",
   "execution_count": 336,
   "metadata": {},
   "outputs": [
    {
     "data": {
      "image/png": "[encoded data removed]",
      "text/plain": [
       "<matplotlib.figure.Figure at 0x1663f18ff28>"
      ]
     },
     "metadata": {},
     "output_type": "display_data"
    }
   ],
   "source": [
    "sns.boxplot(x=\"popularity\", y=\"rmse\", data=test_dataset_subset).set_title(\"RMSE based on popularity of restaurants\")\n",
    "plt.show()"
   ]
  }
 ],
 "metadata": {
  "kernelspec": {
   "display_name": "Python 3",
   "language": "python",
   "name": "python3"
  },
  "language_info": {
   "codemirror_mode": {
    "name": "ipython",
    "version": 3
   },
   "file_extension": ".py",
   "mimetype": "text/x-python",
   "name": "python",
   "nbconvert_exporter": "python",
   "pygments_lexer": "ipython3",
   "version": "3.6.4"
  }
 },
 "nbformat": 4,
 "nbformat_minor": 2
}
